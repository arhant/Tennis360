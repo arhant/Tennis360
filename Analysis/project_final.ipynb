{
 "cells": [
  {
   "cell_type": "code",
   "execution_count": 453,
   "metadata": {},
   "outputs": [],
   "source": [
    "import pandas as pd\n",
    "import numpy as np\n",
    "import matplotlib.pyplot as plt\n",
    "\n",
    "\n",
    "df = pd.read_csv('defend_tournaments_atp_top_10.csv', header=-1)\n",
    "df1 = pd.read_csv('defend_tournaments_wta_top_10.csv', header=-1)\n",
    "df3= pd.read_csv('total_titles_wta.csv', header=-1)\n",
    "df4= pd.read_csv('total_titles_atp.csv', header=-1)\n"
   ]
  },
  {
   "cell_type": "code",
   "execution_count": 454,
   "metadata": {},
   "outputs": [
    {
     "data": {
      "text/html": [
       "<div>\n",
       "<style>\n",
       "    .dataframe thead tr:only-child th {\n",
       "        text-align: right;\n",
       "    }\n",
       "\n",
       "    .dataframe thead th {\n",
       "        text-align: left;\n",
       "    }\n",
       "\n",
       "    .dataframe tbody tr th {\n",
       "        vertical-align: top;\n",
       "    }\n",
       "</style>\n",
       "<table border=\"1\" class=\"dataframe\">\n",
       "  <thead>\n",
       "    <tr style=\"text-align: right;\">\n",
       "      <th></th>\n",
       "      <th>Name</th>\n",
       "      <th>Defends</th>\n",
       "    </tr>\n",
       "  </thead>\n",
       "  <tbody>\n",
       "    <tr>\n",
       "      <th>0</th>\n",
       "      <td>Roger Federer</td>\n",
       "      <td>34</td>\n",
       "    </tr>\n",
       "    <tr>\n",
       "      <th>1</th>\n",
       "      <td>Jimmy Connors</td>\n",
       "      <td>27</td>\n",
       "    </tr>\n",
       "    <tr>\n",
       "      <th>2</th>\n",
       "      <td>Rafael Nadal</td>\n",
       "      <td>26</td>\n",
       "    </tr>\n",
       "    <tr>\n",
       "      <th>3</th>\n",
       "      <td>Novak Djokovic</td>\n",
       "      <td>24</td>\n",
       "    </tr>\n",
       "    <tr>\n",
       "      <th>4</th>\n",
       "      <td>John Mcenroe</td>\n",
       "      <td>23</td>\n",
       "    </tr>\n",
       "    <tr>\n",
       "      <th>5</th>\n",
       "      <td>Bjorn Borg</td>\n",
       "      <td>19</td>\n",
       "    </tr>\n",
       "    <tr>\n",
       "      <th>6</th>\n",
       "      <td>Pete Sampras</td>\n",
       "      <td>17</td>\n",
       "    </tr>\n",
       "    <tr>\n",
       "      <th>7</th>\n",
       "      <td>Ivan Lendl</td>\n",
       "      <td>14</td>\n",
       "    </tr>\n",
       "    <tr>\n",
       "      <th>8</th>\n",
       "      <td>Thomas Muster</td>\n",
       "      <td>12</td>\n",
       "    </tr>\n",
       "    <tr>\n",
       "      <th>9</th>\n",
       "      <td>Ilie Nastase</td>\n",
       "      <td>12</td>\n",
       "    </tr>\n",
       "  </tbody>\n",
       "</table>\n",
       "</div>"
      ],
      "text/plain": [
       "             Name  Defends\n",
       "0   Roger Federer       34\n",
       "1   Jimmy Connors       27\n",
       "2    Rafael Nadal       26\n",
       "3  Novak Djokovic       24\n",
       "4    John Mcenroe       23\n",
       "5      Bjorn Borg       19\n",
       "6    Pete Sampras       17\n",
       "7      Ivan Lendl       14\n",
       "8   Thomas Muster       12\n",
       "9    Ilie Nastase       12"
      ]
     },
     "execution_count": 454,
     "metadata": {},
     "output_type": "execute_result"
    }
   ],
   "source": [
    "df.columns = ['Name', 'Defends']\n",
    "df"
   ]
  },
  {
   "cell_type": "code",
   "execution_count": 455,
   "metadata": {},
   "outputs": [
    {
     "data": {
      "image/png": "[encoded data removed]",
      "text/plain": [
       "<matplotlib.figure.Figure at 0x13252f28>"
      ]
     },
     "metadata": {},
     "output_type": "display_data"
    }
   ],
   "source": [
    "df = df.sort_values('Defends')\n",
    "df.plot(kind='bar', x='Name', figsize=(10,5))\n",
    "plt.show()\n"
   ]
  },
  {
   "cell_type": "code",
   "execution_count": 456,
   "metadata": {},
   "outputs": [
    {
     "data": {
      "text/html": [
       "<div>\n",
       "<style>\n",
       "    .dataframe thead tr:only-child th {\n",
       "        text-align: right;\n",
       "    }\n",
       "\n",
       "    .dataframe thead th {\n",
       "        text-align: left;\n",
       "    }\n",
       "\n",
       "    .dataframe tbody tr th {\n",
       "        vertical-align: top;\n",
       "    }\n",
       "</style>\n",
       "<table border=\"1\" class=\"dataframe\">\n",
       "  <thead>\n",
       "    <tr style=\"text-align: right;\">\n",
       "      <th></th>\n",
       "      <th>Name</th>\n",
       "      <th>Defends</th>\n",
       "    </tr>\n",
       "  </thead>\n",
       "  <tbody>\n",
       "    <tr>\n",
       "      <th>0</th>\n",
       "      <td>Martina Navratilova</td>\n",
       "      <td>53</td>\n",
       "    </tr>\n",
       "    <tr>\n",
       "      <th>1</th>\n",
       "      <td>Steffi Graf</td>\n",
       "      <td>44</td>\n",
       "    </tr>\n",
       "    <tr>\n",
       "      <th>2</th>\n",
       "      <td>Chris Evert</td>\n",
       "      <td>24</td>\n",
       "    </tr>\n",
       "    <tr>\n",
       "      <th>3</th>\n",
       "      <td>Serena Williams</td>\n",
       "      <td>18</td>\n",
       "    </tr>\n",
       "    <tr>\n",
       "      <th>4</th>\n",
       "      <td>Monica Seles</td>\n",
       "      <td>17</td>\n",
       "    </tr>\n",
       "    <tr>\n",
       "      <th>5</th>\n",
       "      <td>Venus Williams</td>\n",
       "      <td>12</td>\n",
       "    </tr>\n",
       "    <tr>\n",
       "      <th>6</th>\n",
       "      <td>Lindsay Davenport</td>\n",
       "      <td>11</td>\n",
       "    </tr>\n",
       "    <tr>\n",
       "      <th>7</th>\n",
       "      <td>Kim Clijsters</td>\n",
       "      <td>8</td>\n",
       "    </tr>\n",
       "    <tr>\n",
       "      <th>8</th>\n",
       "      <td>Tracy Austin</td>\n",
       "      <td>7</td>\n",
       "    </tr>\n",
       "    <tr>\n",
       "      <th>9</th>\n",
       "      <td>Justine Henin</td>\n",
       "      <td>7</td>\n",
       "    </tr>\n",
       "  </tbody>\n",
       "</table>\n",
       "</div>"
      ],
      "text/plain": [
       "                  Name  Defends\n",
       "0  Martina Navratilova       53\n",
       "1          Steffi Graf       44\n",
       "2          Chris Evert       24\n",
       "3      Serena Williams       18\n",
       "4         Monica Seles       17\n",
       "5       Venus Williams       12\n",
       "6    Lindsay Davenport       11\n",
       "7        Kim Clijsters        8\n",
       "8         Tracy Austin        7\n",
       "9        Justine Henin        7"
      ]
     },
     "execution_count": 456,
     "metadata": {},
     "output_type": "execute_result"
    }
   ],
   "source": [
    "df1.columns = ['Name', 'Defends']\n",
    "df1"
   ]
  },
  {
   "cell_type": "code",
   "execution_count": 457,
   "metadata": {},
   "outputs": [
    {
     "data": {
      "image/png": "[encoded data removed]",
      "text/plain": [
       "<matplotlib.figure.Figure at 0x17475a58>"
      ]
     },
     "metadata": {},
     "output_type": "display_data"
    }
   ],
   "source": [
    "df1 = df1.sort_values('Defends')\n",
    "df1.plot(kind='bar', x='Name', figsize=(10,5))\n",
    "plt.show()"
   ]
  },
  {
   "cell_type": "code",
   "execution_count": 458,
   "metadata": {},
   "outputs": [
    {
     "data": {
      "image/png": "[encoded data removed]",
      "text/plain": [
       "<matplotlib.figure.Figure at 0x796cae80>"
      ]
     },
     "metadata": {},
     "output_type": "display_data"
    }
   ],
   "source": [
    "df3.columns = ['Name', 'Wins']\n",
    "df3 = df3[:20]\n",
    "df3.plot(kind='bar', x='Name', figsize=(10,5))\n",
    "plt.show()\n"
   ]
  },
  {
   "cell_type": "code",
   "execution_count": 459,
   "metadata": {},
   "outputs": [
    {
     "data": {
      "image/png": "[encoded data removed]",
      "text/plain": [
       "<matplotlib.figure.Figure at 0x796b37f0>"
      ]
     },
     "metadata": {},
     "output_type": "display_data"
    }
   ],
   "source": [
    "df4.columns = ['Name', 'Wins']\n",
    "df4 = df4[:20]\n",
    "df4.plot(kind='bar', x='Name', figsize=(10,5))\n",
    "plt.show()"
   ]
  },
  {
   "cell_type": "code",
   "execution_count": 474,
   "metadata": {
    "scrolled": true
   },
   "outputs": [
    {
     "data": {
      "image/png": "[encoded data removed]",
      "text/plain": [
       "<matplotlib.figure.Figure at 0x1bd13908>"
      ]
     },
     "metadata": {},
     "output_type": "display_data"
    }
   ],
   "source": [
    "import pandas as pd\n",
    "df4.columns = ['Name', 'Wins']\n",
    "df.columns = ['Name', 'Defends']\n",
    "\n",
    "df_temp = pd.merge(df, df4, on=\"Name\")\n",
    "df_temp['Ratio'] = df_temp['Defends']/df_temp['Wins']\n",
    "df_temp.sort_values(by=['Ratio'], inplace=True)\n",
    "df_temp.plot(x=\"Name\", y=\"Ratio\", kind=\"bar\")\n",
    "plt.show()"
   ]
  },
  {
   "cell_type": "code",
   "execution_count": 475,
   "metadata": {},
   "outputs": [
    {
     "data": {
      "image/png": "[encoded data removed]",
      "text/plain": [
       "<matplotlib.figure.Figure at 0x79765cf8>"
      ]
     },
     "metadata": {},
     "output_type": "display_data"
    }
   ],
   "source": [
    "del df_temp['Ratio']\n",
    "df_temp.sort_values(by=['Defends'], inplace=True)\n",
    "df_temp.plot.bar(x=\"Name\",figsize=(10,5))\n",
    "plt.show()"
   ]
  },
  {
   "cell_type": "code",
   "execution_count": 476,
   "metadata": {},
   "outputs": [
    {
     "data": {
      "image/png": "[encoded data removed]",
      "text/plain": [
       "<matplotlib.figure.Figure at 0x7f068550>"
      ]
     },
     "metadata": {},
     "output_type": "display_data"
    }
   ],
   "source": [
    "import pandas as pd\n",
    "df3.columns = ['Name', 'Wins']\n",
    "df1.columns = ['Name', 'Defends']\n",
    "\n",
    "df_temp1 = pd.merge(df3, df1, on=\"Name\")\n",
    "df_temp1['Ratio'] = df_temp1['Defends']/df_temp1['Wins']\n",
    "df_temp1.sort_values(by=['Ratio'], inplace=True)\n",
    "df_temp1.plot(x=\"Name\", y=\"Ratio\", kind=\"bar\")\n",
    "plt.show()"
   ]
  },
  {
   "cell_type": "code",
   "execution_count": 477,
   "metadata": {},
   "outputs": [
    {
     "data": {
      "image/png": "[encoded data removed]",
      "text/plain": [
       "<matplotlib.figure.Figure at 0x7f27b160>"
      ]
     },
     "metadata": {},
     "output_type": "display_data"
    }
   ],
   "source": [
    "del df_temp1['Ratio']\n",
    "df_temp1.sort_values(by=['Defends'], inplace=True)\n",
    "df_temp1.plot.bar(x=\"Name\",figsize=(10,5))\n",
    "plt.show()"
   ]
  },
  {
   "cell_type": "markdown",
   "metadata": {},
   "source": [
    "#  Data Pre-processing, Feature Extraction & Decesion Tree algorithm "
   ]
  },
  {
   "cell_type": "code",
   "execution_count": 968,
   "metadata": {},
   "outputs": [
    {
     "data": {
      "text/plain": [
       "['tourney_name',\n",
       " 'surface',\n",
       " 'tourney_level',\n",
       " 'tourney_date',\n",
       " 'winner_seed',\n",
       " 'winner_name',\n",
       " 'winner_hand',\n",
       " 'winner_ht',\n",
       " 'winner_ioc',\n",
       " 'winner_age',\n",
       " 'winner_rank',\n",
       " 'winner_rank_points',\n",
       " 'loser_seed',\n",
       " 'loser_name',\n",
       " 'loser_hand',\n",
       " 'loser_ht',\n",
       " 'loser_ioc',\n",
       " 'loser_age',\n",
       " 'loser_rank',\n",
       " 'loser_rank_points',\n",
       " 'score',\n",
       " 'best_of',\n",
       " 'round',\n",
       " 'w_ace',\n",
       " 'w_1stWon',\n",
       " 'l_ace',\n",
       " 'l_1stWon']"
      ]
     },
     "execution_count": 968,
     "metadata": {},
     "output_type": "execute_result"
    }
   ],
   "source": [
    "df2= pd.read_csv('atp-combined.csv', header=0)\n",
    "df2.drop(df2.index[1:10151], inplace=True)\n",
    "del df2['tourney_id']\n",
    "del df2['draw_size']\n",
    "del df2['match_num']\n",
    "del df2['winner_id']\n",
    "del df2['winner_entry']\n",
    "del df2['loser_id']\n",
    "del df2['loser_entry']\n",
    "del df2['w_df']\n",
    "del df2['w_svpt']\n",
    "del df2['w_1stIn']\n",
    "del df2['w_2ndWon']\n",
    "del df2['w_SvGms']\n",
    "del df2['w_bpSaved']\n",
    "del df2['l_2ndWon']\n",
    "del df2['l_bpFaced']\n",
    "del df2['l_SvGms']\n",
    "del df2['l_bpSaved']\n",
    "del df2['l_1stIn']\n",
    "del df2['l_df']\n",
    "del df2['l_svpt']\n",
    "del df2['w_bpFaced']\n",
    "del df2['minutes']\n",
    "\n",
    "\n",
    "\n",
    "list(df2)"
   ]
  },
  {
   "cell_type": "code",
   "execution_count": 969,
   "metadata": {},
   "outputs": [
    {
     "data": {
      "text/html": [
       "<div>\n",
       "<style>\n",
       "    .dataframe thead tr:only-child th {\n",
       "        text-align: right;\n",
       "    }\n",
       "\n",
       "    .dataframe thead th {\n",
       "        text-align: left;\n",
       "    }\n",
       "\n",
       "    .dataframe tbody tr th {\n",
       "        vertical-align: top;\n",
       "    }\n",
       "</style>\n",
       "<table border=\"1\" class=\"dataframe\">\n",
       "  <thead>\n",
       "    <tr style=\"text-align: right;\">\n",
       "      <th></th>\n",
       "      <th>tourney_name</th>\n",
       "      <th>surface</th>\n",
       "      <th>tourney_level</th>\n",
       "      <th>tourney_date</th>\n",
       "      <th>winner_seed</th>\n",
       "      <th>winner_name</th>\n",
       "      <th>winner_hand</th>\n",
       "      <th>winner_ht</th>\n",
       "      <th>winner_ioc</th>\n",
       "      <th>winner_age</th>\n",
       "      <th>...</th>\n",
       "      <th>loser_rank</th>\n",
       "      <th>loser_rank_points</th>\n",
       "      <th>score</th>\n",
       "      <th>best_of</th>\n",
       "      <th>round</th>\n",
       "      <th>w_ace</th>\n",
       "      <th>w_1stWon</th>\n",
       "      <th>l_ace</th>\n",
       "      <th>l_1stWon</th>\n",
       "      <th>freq</th>\n",
       "    </tr>\n",
       "  </thead>\n",
       "  <tbody>\n",
       "    <tr>\n",
       "      <th>0</th>\n",
       "      <td>Australian Chps.</td>\n",
       "      <td>Grass</td>\n",
       "      <td>G</td>\n",
       "      <td>19680119</td>\n",
       "      <td>NaN</td>\n",
       "      <td>Richard Coulthard</td>\n",
       "      <td>R</td>\n",
       "      <td>NaN</td>\n",
       "      <td>AUS</td>\n",
       "      <td>NaN</td>\n",
       "      <td>...</td>\n",
       "      <td>NaN</td>\n",
       "      <td>NaN</td>\n",
       "      <td>12-10 7-5 4-6 7-5</td>\n",
       "      <td>5</td>\n",
       "      <td>R64</td>\n",
       "      <td>NaN</td>\n",
       "      <td>NaN</td>\n",
       "      <td>NaN</td>\n",
       "      <td>NaN</td>\n",
       "      <td>1</td>\n",
       "    </tr>\n",
       "    <tr>\n",
       "      <th>1</th>\n",
       "      <td>London WCT</td>\n",
       "      <td>Hard</td>\n",
       "      <td>A</td>\n",
       "      <td>19730118</td>\n",
       "      <td>NaN</td>\n",
       "      <td>Arthur Ashe</td>\n",
       "      <td>R</td>\n",
       "      <td>185.0</td>\n",
       "      <td>USA</td>\n",
       "      <td>29.527721</td>\n",
       "      <td>...</td>\n",
       "      <td>NaN</td>\n",
       "      <td>NaN</td>\n",
       "      <td>7-6 7-6</td>\n",
       "      <td>3</td>\n",
       "      <td>QF</td>\n",
       "      <td>NaN</td>\n",
       "      <td>NaN</td>\n",
       "      <td>NaN</td>\n",
       "      <td>NaN</td>\n",
       "      <td>409</td>\n",
       "    </tr>\n",
       "    <tr>\n",
       "      <th>2</th>\n",
       "      <td>London WCT</td>\n",
       "      <td>Hard</td>\n",
       "      <td>A</td>\n",
       "      <td>19730118</td>\n",
       "      <td>NaN</td>\n",
       "      <td>Marty Riessen</td>\n",
       "      <td>R</td>\n",
       "      <td>185.0</td>\n",
       "      <td>USA</td>\n",
       "      <td>31.123888</td>\n",
       "      <td>...</td>\n",
       "      <td>NaN</td>\n",
       "      <td>NaN</td>\n",
       "      <td>6-2 3-6 6-4</td>\n",
       "      <td>3</td>\n",
       "      <td>QF</td>\n",
       "      <td>NaN</td>\n",
       "      <td>NaN</td>\n",
       "      <td>NaN</td>\n",
       "      <td>NaN</td>\n",
       "      <td>211</td>\n",
       "    </tr>\n",
       "    <tr>\n",
       "      <th>3</th>\n",
       "      <td>London WCT</td>\n",
       "      <td>Hard</td>\n",
       "      <td>A</td>\n",
       "      <td>19730118</td>\n",
       "      <td>NaN</td>\n",
       "      <td>Mark Cox</td>\n",
       "      <td>L</td>\n",
       "      <td>NaN</td>\n",
       "      <td>GBR</td>\n",
       "      <td>29.541410</td>\n",
       "      <td>...</td>\n",
       "      <td>NaN</td>\n",
       "      <td>NaN</td>\n",
       "      <td>7-5 0-6 6-4</td>\n",
       "      <td>3</td>\n",
       "      <td>QF</td>\n",
       "      <td>NaN</td>\n",
       "      <td>NaN</td>\n",
       "      <td>NaN</td>\n",
       "      <td>NaN</td>\n",
       "      <td>206</td>\n",
       "    </tr>\n",
       "    <tr>\n",
       "      <th>4</th>\n",
       "      <td>London WCT</td>\n",
       "      <td>Hard</td>\n",
       "      <td>A</td>\n",
       "      <td>19730118</td>\n",
       "      <td>NaN</td>\n",
       "      <td>Brian Fairlie</td>\n",
       "      <td>R</td>\n",
       "      <td>NaN</td>\n",
       "      <td>NZL</td>\n",
       "      <td>24.599589</td>\n",
       "      <td>...</td>\n",
       "      <td>NaN</td>\n",
       "      <td>NaN</td>\n",
       "      <td>6-3 6-2</td>\n",
       "      <td>3</td>\n",
       "      <td>SF</td>\n",
       "      <td>NaN</td>\n",
       "      <td>NaN</td>\n",
       "      <td>NaN</td>\n",
       "      <td>NaN</td>\n",
       "      <td>145</td>\n",
       "    </tr>\n",
       "  </tbody>\n",
       "</table>\n",
       "<p>5 rows × 28 columns</p>\n",
       "</div>"
      ],
      "text/plain": [
       "       tourney_name surface tourney_level  tourney_date  winner_seed  \\\n",
       "0  Australian Chps.   Grass             G      19680119          NaN   \n",
       "1        London WCT    Hard             A      19730118          NaN   \n",
       "2        London WCT    Hard             A      19730118          NaN   \n",
       "3        London WCT    Hard             A      19730118          NaN   \n",
       "4        London WCT    Hard             A      19730118          NaN   \n",
       "\n",
       "         winner_name winner_hand  winner_ht winner_ioc  winner_age  ...   \\\n",
       "0  Richard Coulthard           R        NaN        AUS         NaN  ...    \n",
       "1        Arthur Ashe           R      185.0        USA   29.527721  ...    \n",
       "2      Marty Riessen           R      185.0        USA   31.123888  ...    \n",
       "3           Mark Cox           L        NaN        GBR   29.541410  ...    \n",
       "4      Brian Fairlie           R        NaN        NZL   24.599589  ...    \n",
       "\n",
       "   loser_rank  loser_rank_points              score best_of round  w_ace  \\\n",
       "0         NaN                NaN  12-10 7-5 4-6 7-5       5   R64    NaN   \n",
       "1         NaN                NaN            7-6 7-6       3    QF    NaN   \n",
       "2         NaN                NaN        6-2 3-6 6-4       3    QF    NaN   \n",
       "3         NaN                NaN        7-5 0-6 6-4       3    QF    NaN   \n",
       "4         NaN                NaN            6-3 6-2       3    SF    NaN   \n",
       "\n",
       "  w_1stWon  l_ace  l_1stWon  freq  \n",
       "0      NaN    NaN       NaN     1  \n",
       "1      NaN    NaN       NaN   409  \n",
       "2      NaN    NaN       NaN   211  \n",
       "3      NaN    NaN       NaN   206  \n",
       "4      NaN    NaN       NaN   145  \n",
       "\n",
       "[5 rows x 28 columns]"
      ]
     },
     "execution_count": 969,
     "metadata": {},
     "output_type": "execute_result"
    }
   ],
   "source": [
    "df2 = df2.dropna(thresh=5)\n",
    "df2.reset_index(drop=True, inplace=True)\n",
    "df2['freq'] = df2.groupby('winner_name')['winner_name'].transform('count')\n",
    "df2.head()"
   ]
  },
  {
   "cell_type": "code",
   "execution_count": 970,
   "metadata": {},
   "outputs": [
    {
     "data": {
      "image/png": "[encoded data removed]",
      "text/plain": [
       "<matplotlib.figure.Figure at 0xb2cb1828>"
      ]
     },
     "metadata": {},
     "output_type": "display_data"
    }
   ],
   "source": [
    "import matplotlib.pyplot as plt\n",
    "dpro = df2.copy()\n",
    "\n",
    "c_mat = dpro.corr()\n",
    "for i in range(c_mat.shape[0]):\n",
    "    c_mat.iloc[i,i] = 0\n",
    "\n",
    "fig, ax = plt.subplots()\n",
    "heatmap = ax.pcolor(c_mat, cmap=plt.cm.RdBu)\n",
    "\n",
    "#Set the tick labels and center them\n",
    "ax.set_xticks(np.arange(c_mat.shape[0])+0.5, minor=False)\n",
    "ax.set_yticks(np.arange(c_mat.shape[1])+0.5, minor=False)\n",
    "ax.set_xticklabels(c_mat.index.values, minor=False)\n",
    "ax.set_yticklabels(c_mat.index.values, minor=False)\n",
    "\n",
    "fig.set_size_inches(27, 20, forward=True)\n",
    "cbar = plt.colorbar(heatmap)\n",
    "plt.title('Correlation')\n",
    "\n",
    "plt.show()"
   ]
  },
  {
   "cell_type": "code",
   "execution_count": 971,
   "metadata": {},
   "outputs": [
    {
     "data": {
      "text/html": [
       "<div>\n",
       "<style>\n",
       "    .dataframe thead tr:only-child th {\n",
       "        text-align: right;\n",
       "    }\n",
       "\n",
       "    .dataframe thead th {\n",
       "        text-align: left;\n",
       "    }\n",
       "\n",
       "    .dataframe tbody tr th {\n",
       "        vertical-align: top;\n",
       "    }\n",
       "</style>\n",
       "<table border=\"1\" class=\"dataframe\">\n",
       "  <thead>\n",
       "    <tr style=\"text-align: right;\">\n",
       "      <th></th>\n",
       "      <th>tourney_date</th>\n",
       "      <th>winner_seed</th>\n",
       "      <th>winner_hand</th>\n",
       "      <th>winner_ht</th>\n",
       "      <th>winner_age</th>\n",
       "      <th>winner_rank</th>\n",
       "      <th>winner_rank_points</th>\n",
       "      <th>loser_seed</th>\n",
       "      <th>loser_hand</th>\n",
       "      <th>loser_ht</th>\n",
       "      <th>...</th>\n",
       "      <th>loser_rank</th>\n",
       "      <th>loser_rank_points</th>\n",
       "      <th>best_of</th>\n",
       "      <th>w_ace</th>\n",
       "      <th>w_1stWon</th>\n",
       "      <th>l_ace</th>\n",
       "      <th>l_1stWon</th>\n",
       "      <th>freq</th>\n",
       "      <th>count</th>\n",
       "      <th>winner_name</th>\n",
       "    </tr>\n",
       "  </thead>\n",
       "  <tbody>\n",
       "    <tr>\n",
       "      <th>0</th>\n",
       "      <td>20160523</td>\n",
       "      <td>4.0</td>\n",
       "      <td>0</td>\n",
       "      <td>185.0</td>\n",
       "      <td>29.971253</td>\n",
       "      <td>5.0</td>\n",
       "      <td>5675.0</td>\n",
       "      <td>6.0</td>\n",
       "      <td>0</td>\n",
       "      <td>185.0</td>\n",
       "      <td>...</td>\n",
       "      <td>100.0</td>\n",
       "      <td>585.0</td>\n",
       "      <td>5</td>\n",
       "      <td>1.0</td>\n",
       "      <td>34.0</td>\n",
       "      <td>10.0</td>\n",
       "      <td>26.0</td>\n",
       "      <td>885</td>\n",
       "      <td>72</td>\n",
       "      <td>0</td>\n",
       "    </tr>\n",
       "    <tr>\n",
       "      <th>1</th>\n",
       "      <td>20150216</td>\n",
       "      <td>1.0</td>\n",
       "      <td>0</td>\n",
       "      <td>185.0</td>\n",
       "      <td>28.706366</td>\n",
       "      <td>3.0</td>\n",
       "      <td>5745.0</td>\n",
       "      <td>6.0</td>\n",
       "      <td>0</td>\n",
       "      <td>185.0</td>\n",
       "      <td>...</td>\n",
       "      <td>55.0</td>\n",
       "      <td>841.0</td>\n",
       "      <td>3</td>\n",
       "      <td>4.0</td>\n",
       "      <td>30.0</td>\n",
       "      <td>2.0</td>\n",
       "      <td>36.0</td>\n",
       "      <td>885</td>\n",
       "      <td>72</td>\n",
       "      <td>0</td>\n",
       "    </tr>\n",
       "    <tr>\n",
       "      <th>2</th>\n",
       "      <td>20150223</td>\n",
       "      <td>1.0</td>\n",
       "      <td>0</td>\n",
       "      <td>185.0</td>\n",
       "      <td>28.725530</td>\n",
       "      <td>4.0</td>\n",
       "      <td>5425.0</td>\n",
       "      <td>6.0</td>\n",
       "      <td>0</td>\n",
       "      <td>185.0</td>\n",
       "      <td>...</td>\n",
       "      <td>146.0</td>\n",
       "      <td>363.0</td>\n",
       "      <td>3</td>\n",
       "      <td>2.0</td>\n",
       "      <td>23.0</td>\n",
       "      <td>2.0</td>\n",
       "      <td>15.0</td>\n",
       "      <td>885</td>\n",
       "      <td>72</td>\n",
       "      <td>0</td>\n",
       "    </tr>\n",
       "    <tr>\n",
       "      <th>3</th>\n",
       "      <td>20150420</td>\n",
       "      <td>2.0</td>\n",
       "      <td>0</td>\n",
       "      <td>185.0</td>\n",
       "      <td>28.878850</td>\n",
       "      <td>4.0</td>\n",
       "      <td>5435.0</td>\n",
       "      <td>6.0</td>\n",
       "      <td>0</td>\n",
       "      <td>183.0</td>\n",
       "      <td>...</td>\n",
       "      <td>123.0</td>\n",
       "      <td>450.0</td>\n",
       "      <td>3</td>\n",
       "      <td>3.0</td>\n",
       "      <td>25.0</td>\n",
       "      <td>2.0</td>\n",
       "      <td>18.0</td>\n",
       "      <td>885</td>\n",
       "      <td>72</td>\n",
       "      <td>0</td>\n",
       "    </tr>\n",
       "    <tr>\n",
       "      <th>4</th>\n",
       "      <td>20170515</td>\n",
       "      <td>4.0</td>\n",
       "      <td>0</td>\n",
       "      <td>185.0</td>\n",
       "      <td>30.948665</td>\n",
       "      <td>4.0</td>\n",
       "      <td>5195.0</td>\n",
       "      <td>6.0</td>\n",
       "      <td>0</td>\n",
       "      <td>183.0</td>\n",
       "      <td>...</td>\n",
       "      <td>73.0</td>\n",
       "      <td>703.0</td>\n",
       "      <td>3</td>\n",
       "      <td>2.0</td>\n",
       "      <td>5.0</td>\n",
       "      <td>2.0</td>\n",
       "      <td>8.0</td>\n",
       "      <td>885</td>\n",
       "      <td>72</td>\n",
       "      <td>0</td>\n",
       "    </tr>\n",
       "  </tbody>\n",
       "</table>\n",
       "<p>5 rows × 21 columns</p>\n",
       "</div>"
      ],
      "text/plain": [
       "   tourney_date  winner_seed  winner_hand  winner_ht  winner_age  winner_rank  \\\n",
       "0      20160523          4.0            0      185.0   29.971253          5.0   \n",
       "1      20150216          1.0            0      185.0   28.706366          3.0   \n",
       "2      20150223          1.0            0      185.0   28.725530          4.0   \n",
       "3      20150420          2.0            0      185.0   28.878850          4.0   \n",
       "4      20170515          4.0            0      185.0   30.948665          4.0   \n",
       "\n",
       "   winner_rank_points  loser_seed  loser_hand  loser_ht     ...       \\\n",
       "0              5675.0         6.0           0     185.0     ...        \n",
       "1              5745.0         6.0           0     185.0     ...        \n",
       "2              5425.0         6.0           0     185.0     ...        \n",
       "3              5435.0         6.0           0     183.0     ...        \n",
       "4              5195.0         6.0           0     183.0     ...        \n",
       "\n",
       "   loser_rank  loser_rank_points  best_of  w_ace  w_1stWon  l_ace  l_1stWon  \\\n",
       "0       100.0              585.0        5    1.0      34.0   10.0      26.0   \n",
       "1        55.0              841.0        3    4.0      30.0    2.0      36.0   \n",
       "2       146.0              363.0        3    2.0      23.0    2.0      15.0   \n",
       "3       123.0              450.0        3    3.0      25.0    2.0      18.0   \n",
       "4        73.0              703.0        3    2.0       5.0    2.0       8.0   \n",
       "\n",
       "   freq  count  winner_name  \n",
       "0   885     72            0  \n",
       "1   885     72            0  \n",
       "2   885     72            0  \n",
       "3   885     72            0  \n",
       "4   885     72            0  \n",
       "\n",
       "[5 rows x 21 columns]"
      ]
     },
     "execution_count": 971,
     "metadata": {},
     "output_type": "execute_result"
    }
   ],
   "source": [
    "dfa = df2[(df2.tourney_date == 20150104).idxmax():]\n",
    "dfa = dfa.loc[dfa['surface'] == \"Clay\"]\n",
    "dfa['count'] = dfa.groupby('winner_name')['winner_name'].transform('count')\n",
    "dfa = dfa.sort_values(by=['count'],ascending=False).reset_index()\n",
    "\n",
    "del dfa['index']\n",
    "del dfa['score']\n",
    "del dfa['round']\n",
    "del dfa['tourney_name']\n",
    "del dfa['surface']\n",
    "del dfa['tourney_level']\n",
    "\n",
    "df_ar = dfa\n",
    "\n",
    "cols = list(dfa.columns.values) #Make a list of all of the columns in the df\n",
    "cols.pop(cols.index('winner_name')) #Remove b from list\n",
    "dfa = dfa[cols+['winner_name']]\n",
    "\n",
    "dfa['winner_hand'] = pd.factorize(dfa['winner_hand'])[0]\n",
    "dfa['loser_hand'] = pd.factorize(dfa['loser_hand'])[0]\n",
    "dfa['winner_name'] = pd.factorize(dfa['winner_name'])[0]\n",
    "del dfa['loser_name']\n",
    "del dfa['loser_ioc']\n",
    "del dfa['winner_ioc']\n",
    "winners = pd.factorize(dfa['winner_name'])[0]\n",
    "dfa=dfa.fillna(dfa.median())\n",
    "\n",
    "dfa.head()"
   ]
  },
  {
   "cell_type": "code",
   "execution_count": 972,
   "metadata": {},
   "outputs": [
    {
     "data": {
      "text/html": [
       "<div>\n",
       "<style>\n",
       "    .dataframe thead tr:only-child th {\n",
       "        text-align: right;\n",
       "    }\n",
       "\n",
       "    .dataframe thead th {\n",
       "        text-align: left;\n",
       "    }\n",
       "\n",
       "    .dataframe tbody tr th {\n",
       "        vertical-align: top;\n",
       "    }\n",
       "</style>\n",
       "<table border=\"1\" class=\"dataframe\">\n",
       "  <thead>\n",
       "    <tr style=\"text-align: right;\">\n",
       "      <th></th>\n",
       "      <th>col</th>\n",
       "      <th>count1</th>\n",
       "    </tr>\n",
       "  </thead>\n",
       "  <tbody>\n",
       "    <tr>\n",
       "      <th>0</th>\n",
       "      <td>0</td>\n",
       "      <td>72</td>\n",
       "    </tr>\n",
       "    <tr>\n",
       "      <th>1</th>\n",
       "      <td>1</td>\n",
       "      <td>69</td>\n",
       "    </tr>\n",
       "    <tr>\n",
       "      <th>2</th>\n",
       "      <td>2</td>\n",
       "      <td>55</td>\n",
       "    </tr>\n",
       "    <tr>\n",
       "      <th>3</th>\n",
       "      <td>3</td>\n",
       "      <td>54</td>\n",
       "    </tr>\n",
       "    <tr>\n",
       "      <th>4</th>\n",
       "      <td>5</td>\n",
       "      <td>48</td>\n",
       "    </tr>\n",
       "  </tbody>\n",
       "</table>\n",
       "</div>"
      ],
      "text/plain": [
       "   col  count1\n",
       "0    0      72\n",
       "1    1      69\n",
       "2    2      55\n",
       "3    3      54\n",
       "4    5      48"
      ]
     },
     "execution_count": 972,
     "metadata": {},
     "output_type": "execute_result"
    }
   ],
   "source": [
    "df_t = dfa['winner_name'].value_counts().reset_index()\n",
    "df_t.columns = ['col', 'count1']\n",
    "df_t.head()\n",
    "# len(list(df_t['count1']))"
   ]
  },
  {
   "cell_type": "code",
   "execution_count": 973,
   "metadata": {},
   "outputs": [
    {
     "name": "stdout",
     "output_type": "stream",
     "text": [
      "DecisionTreeClassifier(class_weight=None, criterion='entropy', max_depth=None,\n",
      "            max_features=None, max_leaf_nodes=None,\n",
      "            min_impurity_decrease=0.0, min_impurity_split=None,\n",
      "            min_samples_leaf=1, min_samples_split=2,\n",
      "            min_weight_fraction_leaf=0.0, presort=False, random_state=None,\n",
      "            splitter='best')\n",
      "\n",
      "Counter({1: 21, 0: 20, 2: 19, 6: 19, 4: 15, 8: 15, 3: 14, 11: 14, 23: 14, 17: 13, 26: 13, 7: 12, 5: 11, 9: 11, 13: 11, 21: 11, 28: 11, 39: 11, 56: 11, 16: 10, 18: 10, 25: 10, 31: 10, 50: 10, 10: 9, 12: 9, 19: 9, 33: 9, 43: 9, 14: 8, 15: 8, 20: 8, 24: 8, 27: 8, 30: 8, 37: 8, 41: 8, 57: 8, 29: 7, 38: 7, 42: 7, 44: 7, 45: 7, 61: 7, 71: 7, 80: 7, 22: 6, 32: 6, 34: 6, 35: 6, 48: 6, 55: 6, 64: 6, 65: 6, 84: 6, 86: 6, 113: 6, 130: 6, 36: 5, 52: 5, 54: 5, 58: 5, 63: 5, 67: 5, 69: 5, 73: 5, 123: 5, 149: 5, 40: 4, 46: 4, 47: 4, 51: 4, 59: 4, 62: 4, 66: 4, 70: 4, 81: 4, 83: 4, 114: 4, 117: 4, 188: 4, 60: 3, 68: 3, 72: 3, 85: 3, 88: 3, 96: 3, 97: 3, 99: 3, 103: 3, 106: 3, 107: 3, 195: 3, 49: 2, 53: 2, 74: 2, 75: 2, 77: 2, 78: 2, 82: 2, 87: 2, 90: 2, 91: 2, 92: 2, 94: 2, 100: 2, 101: 2, 109: 2, 110: 2, 112: 2, 116: 2, 118: 2, 121: 2, 122: 2, 124: 2, 129: 2, 137: 2, 141: 2, 146: 2, 151: 2, 153: 2, 158: 2, 173: 2, 185: 2, 191: 2, 199: 2, 203: 2, 225: 2, 276: 2, 79: 1, 89: 1, 93: 1, 95: 1, 98: 1, 108: 1, 115: 1, 119: 1, 125: 1, 126: 1, 127: 1, 128: 1, 131: 1, 133: 1, 135: 1, 138: 1, 140: 1, 143: 1, 145: 1, 148: 1, 150: 1, 152: 1, 157: 1, 159: 1, 160: 1, 170: 1, 174: 1, 178: 1, 180: 1, 182: 1, 186: 1, 187: 1, 192: 1, 194: 1, 196: 1, 202: 1, 211: 1, 214: 1, 227: 1, 237: 1, 240: 1, 253: 1, 262: 1, 263: 1, 265: 1, 271: 1, 280: 1})\n"
     ]
    }
   ],
   "source": [
    "from sklearn import tree\n",
    "from sklearn.tree import DecisionTreeClassifier\n",
    "from collections import Counter\n",
    "\n",
    "train_df=dfa.sample(frac=0.7,random_state=50)  #Training data\n",
    "test_df=dfa.drop(train_df.index)               #Testing data\n",
    "\n",
    "Xdt_train=train_df.iloc[:,0:20]\n",
    "Ydt_train=train_df['winner_name']                   \n",
    "Xdt_test=test_df.iloc[:,0:20]\n",
    "Ydt_test=test_df['winner_name']\n",
    "\n",
    "clf = tree.DecisionTreeClassifier(criterion=\"entropy\")     #Modelling using Decision Trees\n",
    "clf = clf.fit(Xdt_train, Ydt_train)\n",
    "print(clf)\n",
    "\n",
    "results_dt = clf.predict(Xdt_test)\n",
    "print(\"\\n\" + str(Counter(results_dt)))"
   ]
  },
  {
   "cell_type": "code",
   "execution_count": 974,
   "metadata": {},
   "outputs": [
    {
     "name": "stdout",
     "output_type": "stream",
     "text": [
      "('Accuracy Score for Test Data: ', 0.91809290953545231)\n",
      "('Precision Score for Test Data: ', 0.63965713472755725)\n",
      "('Recall Score for Test Data: ', 0.66180415828303152)\n",
      "('F1 Score for Test Data: ', 0.64135926671137933)\n",
      "20\n"
     ]
    }
   ],
   "source": [
    "import warnings\n",
    "warnings.filterwarnings('ignore')\n",
    "\n",
    "from sklearn.metrics import *\n",
    "clf1 = tree.DecisionTreeClassifier(criterion=\"entropy\")   #Training using Decision Tree Algorithm\n",
    "clf1 = clf1.fit(Xdt_train, Ydt_train)\n",
    "results_dt1 = clf1.predict(Xdt_test)\n",
    "print(\"Accuracy Score for Test Data: \", (accuracy_score(Ydt_test,results_dt1)))   #Accuracy \n",
    "print(\"Precision Score for Test Data: \", (precision_score(Ydt_test,results_dt1,average='macro' )))  #Precision\n",
    "print(\"Recall Score for Test Data: \", (recall_score(Ydt_test,results_dt1,average='macro' )))        #Recall\n",
    "print(\"F1 Score for Test Data: \", (f1_score(Ydt_test,results_dt1,average='macro' )))     \n",
    "\n",
    "print(len(clf.feature_importances_))\n"
   ]
  },
  {
   "cell_type": "code",
   "execution_count": 975,
   "metadata": {},
   "outputs": [
    {
     "data": {
      "image/png": "[encoded data removed]",
      "text/plain": [
       "<matplotlib.figure.Figure at 0xb3a43f28>"
      ]
     },
     "metadata": {},
     "output_type": "display_data"
    }
   ],
   "source": [
    "import matplotlib.pyplot as plt\n",
    "\n",
    "fig, ax = plt.subplots()\n",
    "width=0.30\n",
    "ax.bar(np.arange(20), clf.feature_importances_, width, color='b')\n",
    "ax.set_xticks(np.arange(len(clf.feature_importances_)))\n",
    "ax.set_xticklabels(train_df.drop('winner_name',1).columns.values,rotation=90)\n",
    "plt.title('Feature Importance from DT')\n",
    "ax.set_xlabel('Features')\n",
    "ax.set_ylabel('Normalized Gini Importance')\n",
    "plt.show()"
   ]
  },
  {
   "cell_type": "code",
   "execution_count": 976,
   "metadata": {},
   "outputs": [
    {
     "data": {
      "text/plain": [
       "['winner_seed',\n",
       " 'winner_hand',\n",
       " 'winner_ht',\n",
       " 'winner_age',\n",
       " 'winner_rank',\n",
       " 'winner_rank_points',\n",
       " 'loser_hand',\n",
       " 'loser_age',\n",
       " 'l_ace',\n",
       " 'freq',\n",
       " 'count',\n",
       " 'winner_name']"
      ]
     },
     "execution_count": 976,
     "metadata": {},
     "output_type": "execute_result"
    }
   ],
   "source": [
    "del dfa['w_1stWon']\n",
    "del dfa['w_ace']\n",
    "del dfa['best_of']\n",
    "del dfa['loser_rank_points']\n",
    "del dfa['loser_rank']\n",
    "del dfa['loser_ht']\n",
    "del dfa['tourney_date']\n",
    "del dfa['loser_seed']\n",
    "del dfa['l_1stWon']\n",
    "\n",
    "\n",
    "list(dfa)"
   ]
  },
  {
   "cell_type": "code",
   "execution_count": 977,
   "metadata": {},
   "outputs": [
    {
     "name": "stdout",
     "output_type": "stream",
     "text": [
      "('Accuracy Score for Test Data:', 0.94505494505494503)\n",
      "('Precision Score for Test Data: ', 0.7423423423423422)\n",
      "('Recall Score for Test Data: ', 0.7567567567567568)\n",
      "('F1 Score for Test Data: ', 0.74576576576576581)\n",
      "\n",
      "Counter({0: 14, 6: 14, 1: 13, 2: 10, 3: 10, 4: 10, 7: 10, 8: 10, 17: 10, 23: 10, 26: 10, 11: 8, 21: 8, 28: 8, 31: 8, 50: 8, 56: 8, 9: 7, 10: 7, 13: 7, 33: 7, 39: 7, 43: 7, 14: 6, 16: 6, 18: 6, 19: 6, 20: 6, 29: 6, 37: 6, 41: 6, 61: 6, 80: 6, 5: 5, 12: 5, 22: 5, 24: 5, 25: 5, 30: 5, 34: 5, 42: 5, 45: 5, 57: 5, 65: 5, 15: 4, 27: 4, 35: 4, 38: 4, 48: 4, 52: 4, 55: 4, 58: 4, 64: 4, 71: 4, 73: 4, 83: 4, 84: 4, 86: 4, 32: 3, 44: 3, 51: 3, 60: 3, 62: 3, 66: 3, 67: 3, 69: 3, 70: 3, 88: 3, 101: 3, 102: 3, 114: 3, 139: 3, 155: 3, 191: 3, 36: 2, 40: 2, 47: 2, 53: 2, 59: 2, 63: 2, 72: 2, 78: 2, 81: 2, 82: 2, 85: 2, 94: 2, 96: 2, 97: 2, 100: 2, 103: 2, 106: 2, 107: 2, 112: 2, 113: 2, 116: 2, 117: 2, 118: 2, 123: 2, 129: 2, 130: 2, 138: 2, 185: 2, 187: 2, 202: 2, 46: 1, 49: 1, 54: 1, 68: 1, 74: 1, 75: 1, 77: 1, 79: 1, 87: 1, 89: 1, 90: 1, 91: 1, 92: 1, 93: 1, 95: 1, 98: 1, 108: 1, 109: 1, 110: 1, 115: 1, 122: 1, 124: 1, 126: 1, 128: 1, 131: 1, 133: 1, 140: 1, 141: 1, 143: 1, 145: 1, 149: 1, 150: 1, 151: 1, 153: 1, 156: 1, 163: 1, 165: 1, 171: 1, 173: 1, 178: 1, 179: 1, 182: 1, 186: 1, 188: 1, 192: 1, 193: 1, 195: 1, 198: 1, 211: 1, 219: 1, 223: 1, 225: 1, 238: 1, 250: 1, 277: 1, 280: 1})\n"
     ]
    }
   ],
   "source": [
    "import warnings\n",
    "warnings.filterwarnings('ignore')\n",
    "\n",
    "train_df=dfa.sample(frac=0.8,random_state=50)     #Train data\n",
    "test_df=dfa.drop(train_df.index)                  #Test data\n",
    "\n",
    "Xdt_train=train_df.iloc[:,0:11]              #Predictors\n",
    "Ydt_train=train_df['winner_name']                #Target variable      \n",
    "Xdt_test=test_df.iloc[:,0:11]\n",
    "Ydt_test=test_df['winner_name']\n",
    "clf = tree.DecisionTreeClassifier(criterion=\"entropy\")\n",
    "clf = clf.fit(Xdt_train, Ydt_train)\n",
    "results_dt = clf.predict(Xdt_test)\n",
    "\n",
    "print(\"Accuracy Score for Test Data:\", (accuracy_score(Ydt_test,results_dt)))\n",
    "print(\"Precision Score for Test Data: \", (precision_score(Ydt_test,results_dt,average='macro' )))\n",
    "print(\"Recall Score for Test Data: \", (recall_score(Ydt_test,results_dt,average='macro' )))\n",
    "print(\"F1 Score for Test Data: \", (f1_score(Ydt_test,results_dt,average='macro' )))\n",
    "\n",
    "print(\"\\n\" + str(Counter(results_dt)))"
   ]
  },
  {
   "cell_type": "code",
   "execution_count": 982,
   "metadata": {},
   "outputs": [
    {
     "data": {
      "text/html": [
       "<div>\n",
       "<style>\n",
       "    .dataframe thead tr:only-child th {\n",
       "        text-align: right;\n",
       "    }\n",
       "\n",
       "    .dataframe thead th {\n",
       "        text-align: left;\n",
       "    }\n",
       "\n",
       "    .dataframe tbody tr th {\n",
       "        vertical-align: top;\n",
       "    }\n",
       "</style>\n",
       "<table border=\"1\" class=\"dataframe\">\n",
       "  <thead>\n",
       "    <tr style=\"text-align: right;\">\n",
       "      <th></th>\n",
       "      <th>col</th>\n",
       "      <th>count</th>\n",
       "    </tr>\n",
       "  </thead>\n",
       "  <tbody>\n",
       "    <tr>\n",
       "      <th>0</th>\n",
       "      <td>Rafael Nadal</td>\n",
       "      <td>72</td>\n",
       "    </tr>\n",
       "    <tr>\n",
       "      <th>1</th>\n",
       "      <td>Dominic Thiem</td>\n",
       "      <td>69</td>\n",
       "    </tr>\n",
       "    <tr>\n",
       "      <th>2</th>\n",
       "      <td>Pablo Cuevas</td>\n",
       "      <td>55</td>\n",
       "    </tr>\n",
       "    <tr>\n",
       "      <th>3</th>\n",
       "      <td>Albert Ramos</td>\n",
       "      <td>54</td>\n",
       "    </tr>\n",
       "    <tr>\n",
       "      <th>4</th>\n",
       "      <td>Fabio Fognini</td>\n",
       "      <td>48</td>\n",
       "    </tr>\n",
       "    <tr>\n",
       "      <th>5</th>\n",
       "      <td>Pablo Carreno Busta</td>\n",
       "      <td>48</td>\n",
       "    </tr>\n",
       "    <tr>\n",
       "      <th>6</th>\n",
       "      <td>David Ferrer</td>\n",
       "      <td>46</td>\n",
       "    </tr>\n",
       "    <tr>\n",
       "      <th>7</th>\n",
       "      <td>Andy Murray</td>\n",
       "      <td>45</td>\n",
       "    </tr>\n",
       "    <tr>\n",
       "      <th>8</th>\n",
       "      <td>Novak Djokovic</td>\n",
       "      <td>45</td>\n",
       "    </tr>\n",
       "    <tr>\n",
       "      <th>9</th>\n",
       "      <td>Joao Sousa</td>\n",
       "      <td>42</td>\n",
       "    </tr>\n",
       "    <tr>\n",
       "      <th>10</th>\n",
       "      <td>Kei Nishikori</td>\n",
       "      <td>41</td>\n",
       "    </tr>\n",
       "  </tbody>\n",
       "</table>\n",
       "</div>"
      ],
      "text/plain": [
       "                    col  count\n",
       "0          Rafael Nadal     72\n",
       "1         Dominic Thiem     69\n",
       "2          Pablo Cuevas     55\n",
       "3          Albert Ramos     54\n",
       "4         Fabio Fognini     48\n",
       "5   Pablo Carreno Busta     48\n",
       "6          David Ferrer     46\n",
       "7           Andy Murray     45\n",
       "8        Novak Djokovic     45\n",
       "9            Joao Sousa     42\n",
       "10        Kei Nishikori     41"
      ]
     },
     "execution_count": 982,
     "metadata": {},
     "output_type": "execute_result"
    }
   ],
   "source": [
    "df_a = df_ar['winner_name'].value_counts().dropna().reset_index()\n",
    "df_a.columns = ['col', 'count']\n",
    "df_a=df_a.fillna(df_a.median())\n",
    "df_a.head(11)"
   ]
  },
  {
   "cell_type": "code",
   "execution_count": 961,
   "metadata": {},
   "outputs": [
    {
     "name": "stdout",
     "output_type": "stream",
     "text": [
      "('The left hand player has a', 46.34, '% Chance of winning against a right hand player')\n"
     ]
    }
   ],
   "source": [
    "R = len(df_ar[(df_ar.winner_hand == 'R') & (df_ar.loser_hand == 'L')])\n",
    "L = len(df_ar[(df_ar.winner_hand == 'L') & (df_ar.loser_hand == 'R')])\n",
    "print('The left hand player has a',round(100*np.true_divide(L, R + L),2), '% Chance of winning against a right hand player')"
   ]
  },
  {
   "cell_type": "code",
   "execution_count": 962,
   "metadata": {},
   "outputs": [
    {
     "data": {
      "text/html": [
       "<div>\n",
       "<style>\n",
       "    .dataframe thead tr:only-child th {\n",
       "        text-align: right;\n",
       "    }\n",
       "\n",
       "    .dataframe thead th {\n",
       "        text-align: left;\n",
       "    }\n",
       "\n",
       "    .dataframe tbody tr th {\n",
       "        vertical-align: top;\n",
       "    }\n",
       "</style>\n",
       "<table border=\"1\" class=\"dataframe\">\n",
       "  <thead>\n",
       "    <tr style=\"text-align: right;\">\n",
       "      <th></th>\n",
       "      <th>country</th>\n",
       "      <th>count</th>\n",
       "    </tr>\n",
       "  </thead>\n",
       "  <tbody>\n",
       "    <tr>\n",
       "      <th>0</th>\n",
       "      <td>USA</td>\n",
       "      <td>43</td>\n",
       "    </tr>\n",
       "    <tr>\n",
       "      <th>1</th>\n",
       "      <td>FRA</td>\n",
       "      <td>29</td>\n",
       "    </tr>\n",
       "    <tr>\n",
       "      <th>2</th>\n",
       "      <td>AUS</td>\n",
       "      <td>27</td>\n",
       "    </tr>\n",
       "    <tr>\n",
       "      <th>3</th>\n",
       "      <td>GER</td>\n",
       "      <td>23</td>\n",
       "    </tr>\n",
       "    <tr>\n",
       "      <th>4</th>\n",
       "      <td>ESP</td>\n",
       "      <td>23</td>\n",
       "    </tr>\n",
       "  </tbody>\n",
       "</table>\n",
       "</div>"
      ],
      "text/plain": [
       "  country  count\n",
       "0     USA     43\n",
       "1     FRA     29\n",
       "2     AUS     27\n",
       "3     GER     23\n",
       "4     ESP     23"
      ]
     },
     "execution_count": 962,
     "metadata": {},
     "output_type": "execute_result"
    }
   ],
   "source": [
    "f1 = df_ar.groupby([\"winner_ioc\", \"winner_name\"]).size()\n",
    "f1 = f1.sort_values(ascending=False)\n",
    "f1 = f1.to_frame().reset_index()\n",
    "f1.columns = ['country', 'name', 'count']\n",
    "f2 = df_ar.groupby([\"loser_ioc\", \"loser_name\"]).size()\n",
    "f2 = f2.sort_values(ascending=False)\n",
    "f2 = f2.to_frame().reset_index()\n",
    "f2.columns = ['country', 'name', 'count']\n",
    "f1 = f1.append(f2)\n",
    "f1 = f1.drop_duplicates('name')\n",
    "# Total = f1.groupby['country'].sum()\n",
    "del f1['name']\n",
    "del f1['count']\n",
    "f1 = f1['country'].value_counts()\n",
    "f1 = f1.to_frame().reset_index()\n",
    "f1.columns = ['country', 'count']\n",
    "f1.head()"
   ]
  },
  {
   "cell_type": "code",
   "execution_count": 963,
   "metadata": {},
   "outputs": [
    {
     "data": {
      "image/png": "[encoded data removed]",
      "text/plain": [
       "<matplotlib.figure.Figure at 0x1415db6d8>"
      ]
     },
     "metadata": {},
     "output_type": "display_data"
    }
   ],
   "source": [
    "f1.plot(kind='bar', x='country', figsize=(20,8))\n",
    "plt.show()"
   ]
  },
  {
   "cell_type": "markdown",
   "metadata": {},
   "source": [
    "# Using Random Forest "
   ]
  },
  {
   "cell_type": "code",
   "execution_count": 964,
   "metadata": {
    "collapsed": true
   },
   "outputs": [],
   "source": [
    "train_df1=dfa.sample(frac=0.8,random_state=50)            #Training Data\n",
    "test_df1=dfa.drop(train_df1.index)                         #Testing Data\n",
    "\n",
    "Xdt_train1=train_df1.iloc[:,0:11]\n",
    "Ydt_train1=train_df1['winner_name']                   \n",
    "Xdt_test1=test_df1.iloc[:,0:11]\n",
    "Ydt_test1=test_df1['winner_name']"
   ]
  },
  {
   "cell_type": "code",
   "execution_count": 965,
   "metadata": {},
   "outputs": [
    {
     "name": "stdout",
     "output_type": "stream",
     "text": [
      "('Accuracy Score for Test Data:', 0.95588235294117652)\n",
      "('Precision Score for Test Data: ', 0.71856742697078835)\n",
      "('Recall Score for Test Data: ', 0.72724089635854339)\n",
      "('F1 Score for Test Data: ', 0.71994384798453803)\n"
     ]
    }
   ],
   "source": [
    "import warnings\n",
    "warnings.filterwarnings('ignore')\n",
    "from sklearn.ensemble import RandomForestClassifier\n",
    "from sklearn.metrics import accuracy_score\n",
    "\n",
    "clf = RandomForestClassifier(n_estimators=500)         #Modelling based on Random Forest Algorithm\n",
    "clf.fit(Xdt_train1, Ydt_train1)\n",
    "predicted = clf.predict(Xdt_test1)                    #Predictions stored in variable named predicted\n",
    "   \n",
    "print(\"Accuracy Score for Test Data:\",accuracy_score(Ydt_test1,predicted))\n",
    "print(\"Precision Score for Test Data: \", (precision_score(Ydt_test1,predicted,average='macro' )))\n",
    "print(\"Recall Score for Test Data: \", (recall_score(Ydt_test1,predicted,average='macro' )))\n",
    "print(\"F1 Score for Test Data: \", (f1_score(Ydt_test1,predicted, average='macro' )))"
   ]
  },
  {
   "cell_type": "code",
   "execution_count": 966,
   "metadata": {},
   "outputs": [
    {
     "name": "stdout",
     "output_type": "stream",
     "text": [
      "\n",
      "Counter({1: 28, 3: 25, 27: 23, 6: 22, 8: 22, 10: 21, 0: 20, 11: 20, 4: 19, 5: 18, 9: 18, 21: 18, 12: 17, 2: 16, 13: 16, 14: 16, 15: 16, 17: 16, 22: 16, 19: 15, 29: 15, 20: 14, 18: 13, 23: 12, 24: 12, 25: 12, 28: 12, 34: 12, 7: 11, 16: 11, 30: 11, 32: 11, 36: 11, 53: 11, 26: 10, 31: 10, 35: 10, 38: 10, 40: 10, 51: 10, 37: 9, 43: 9, 45: 9, 52: 9, 55: 9, 39: 8, 41: 8, 46: 8, 49: 8, 50: 8, 74: 8, 89: 8, 33: 7, 48: 7, 59: 7, 65: 7, 136: 7, 42: 6, 54: 6, 56: 6, 62: 6, 63: 6, 64: 6, 75: 6, 44: 5, 47: 5, 58: 5, 70: 5, 73: 5, 76: 5, 77: 5, 80: 5, 82: 5, 83: 5, 95: 5, 100: 5, 109: 5, 61: 4, 79: 4, 81: 4, 85: 4, 87: 4, 88: 4, 90: 4, 91: 4, 93: 4, 96: 4, 102: 4, 111: 4, 129: 4, 132: 4, 151: 4, 60: 3, 66: 3, 67: 3, 68: 3, 69: 3, 94: 3, 98: 3, 99: 3, 106: 3, 108: 3, 112: 3, 114: 3, 125: 3, 133: 3, 134: 3, 137: 3, 154: 3, 57: 2, 72: 2, 84: 2, 86: 2, 92: 2, 97: 2, 101: 2, 104: 2, 105: 2, 110: 2, 115: 2, 118: 2, 119: 2, 122: 2, 123: 2, 127: 2, 131: 2, 138: 2, 149: 2, 153: 2, 155: 2, 156: 2, 162: 2, 163: 2, 172: 2, 174: 2, 176: 2, 182: 2, 191: 2, 246: 2, 278: 2, 296: 2, 303: 2, 78: 1, 103: 1, 107: 1, 113: 1, 116: 1, 120: 1, 126: 1, 128: 1, 130: 1, 135: 1, 141: 1, 142: 1, 144: 1, 148: 1, 158: 1, 159: 1, 161: 1, 164: 1, 165: 1, 167: 1, 170: 1, 171: 1, 175: 1, 178: 1, 189: 1, 192: 1, 193: 1, 195: 1, 198: 1, 200: 1, 202: 1, 210: 1, 222: 1, 225: 1, 228: 1, 230: 1, 234: 1, 235: 1, 238: 1, 240: 1, 242: 1, 245: 1, 247: 1, 248: 1, 253: 1, 254: 1, 257: 1, 258: 1, 259: 1, 263: 1, 280: 1, 287: 1, 304: 1, 330: 1, 333: 1, 348: 1, 364: 1, 374: 1})\n"
     ]
    }
   ],
   "source": [
    "results_dt = clf.predict(Xdt_test1)\n",
    "print(\"\\n\" + str(Counter(results_dt)))"
   ]
  },
  {
   "cell_type": "code",
   "execution_count": 967,
   "metadata": {},
   "outputs": [
    {
     "data": {
      "text/html": [
       "<div>\n",
       "<style>\n",
       "    .dataframe thead tr:only-child th {\n",
       "        text-align: right;\n",
       "    }\n",
       "\n",
       "    .dataframe thead th {\n",
       "        text-align: left;\n",
       "    }\n",
       "\n",
       "    .dataframe tbody tr th {\n",
       "        vertical-align: top;\n",
       "    }\n",
       "</style>\n",
       "<table border=\"1\" class=\"dataframe\">\n",
       "  <thead>\n",
       "    <tr style=\"text-align: right;\">\n",
       "      <th></th>\n",
       "      <th>col</th>\n",
       "      <th>count</th>\n",
       "    </tr>\n",
       "  </thead>\n",
       "  <tbody>\n",
       "    <tr>\n",
       "      <th>0</th>\n",
       "      <td>Novak Djokovic</td>\n",
       "      <td>123</td>\n",
       "    </tr>\n",
       "    <tr>\n",
       "      <th>1</th>\n",
       "      <td>Andy Murray</td>\n",
       "      <td>104</td>\n",
       "    </tr>\n",
       "    <tr>\n",
       "      <th>2</th>\n",
       "      <td>Roberto Bautista Agut</td>\n",
       "      <td>102</td>\n",
       "    </tr>\n",
       "    <tr>\n",
       "      <th>3</th>\n",
       "      <td>David Goffin</td>\n",
       "      <td>100</td>\n",
       "    </tr>\n",
       "    <tr>\n",
       "      <th>4</th>\n",
       "      <td>Grigor Dimitrov</td>\n",
       "      <td>99</td>\n",
       "    </tr>\n",
       "    <tr>\n",
       "      <th>5</th>\n",
       "      <td>Roger Federer</td>\n",
       "      <td>95</td>\n",
       "    </tr>\n",
       "    <tr>\n",
       "      <th>6</th>\n",
       "      <td>Rafael Nadal</td>\n",
       "      <td>92</td>\n",
       "    </tr>\n",
       "    <tr>\n",
       "      <th>7</th>\n",
       "      <td>Kei Nishikori</td>\n",
       "      <td>91</td>\n",
       "    </tr>\n",
       "    <tr>\n",
       "      <th>8</th>\n",
       "      <td>Tomas Berdych</td>\n",
       "      <td>89</td>\n",
       "    </tr>\n",
       "    <tr>\n",
       "      <th>9</th>\n",
       "      <td>Stanislas Wawrinka</td>\n",
       "      <td>87</td>\n",
       "    </tr>\n",
       "    <tr>\n",
       "      <th>10</th>\n",
       "      <td>Marin Cilic</td>\n",
       "      <td>86</td>\n",
       "    </tr>\n",
       "  </tbody>\n",
       "</table>\n",
       "</div>"
      ],
      "text/plain": [
       "                      col  count\n",
       "0          Novak Djokovic    123\n",
       "1             Andy Murray    104\n",
       "2   Roberto Bautista Agut    102\n",
       "3            David Goffin    100\n",
       "4         Grigor Dimitrov     99\n",
       "5           Roger Federer     95\n",
       "6            Rafael Nadal     92\n",
       "7           Kei Nishikori     91\n",
       "8           Tomas Berdych     89\n",
       "9      Stanislas Wawrinka     87\n",
       "10            Marin Cilic     86"
      ]
     },
     "execution_count": 967,
     "metadata": {},
     "output_type": "execute_result"
    }
   ],
   "source": [
    "df_a = df_ar['winner_name'].value_counts().dropna().reset_index()\n",
    "df_a.columns = ['col', 'count']\n",
    "df_a=df_a.fillna(df_a.median())\n",
    "df_a.head(11)"
   ]
  },
  {
   "cell_type": "code",
   "execution_count": null,
   "metadata": {
    "collapsed": true
   },
   "outputs": [],
   "source": []
  }
 ],
 "metadata": {
  "kernelspec": {
   "display_name": "Python 2",
   "language": "python",
   "name": "python2"
  },
  "language_info": {
   "codemirror_mode": {
    "name": "ipython",
    "version": 2
   },
   "file_extension": ".py",
   "mimetype": "text/x-python",
   "name": "python",
   "nbconvert_exporter": "python",
   "pygments_lexer": "ipython2",
   "version": "2.7.14"
  }
 },
 "nbformat": 4,
 "nbformat_minor": 2
}
